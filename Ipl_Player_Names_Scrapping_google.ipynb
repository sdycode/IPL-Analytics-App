{
  "cells": [
    {
      "cell_type": "markdown",
      "metadata": {
        "id": "kyGdx1llA8nZ"
      },
      "source": [
        "Ipl match data :\n",
        "\n",
        "Data available  columns : \n",
        "\n",
        "Index(['id', 'city', 'date', 'player_of_match', 'venue', 'neutral_venue',\n",
        "       'team1', 'team2', 'toss_winner', 'toss_decision', 'winner', 'result',\n",
        "       'result_margin', 'eliminator', 'method', 'umpire1', 'umpire2'],\n",
        "      dtype='object')"
      ]
    },
    {
      "cell_type": "markdown",
      "metadata": {
        "id": "rA3bhU-RCqGo"
      },
      "source": [
        "What to present ::\n",
        "\n",
        "1] Select 2 teams  and show matches between them year wise"
      ]
    },
    {
      "cell_type": "code",
      "execution_count": 1,
      "metadata": {
        "colab": {
          "base_uri": "https://localhost:8080/"
        },
        "id": "gCVfNIjPNGdY",
        "outputId": "767fda1e-1fe4-425d-b63f-8cf13e716faa"
      },
      "outputs": [
        {
          "name": "stdout",
          "output_type": "stream",
          "text": [
            "Requirement already satisfied: beautifulsoup4 in c:\\users\\mayur\\appdata\\local\\programs\\python\\python310\\lib\\site-packages (4.11.1)\n",
            "Requirement already satisfied: soupsieve>1.2 in c:\\users\\mayur\\appdata\\local\\programs\\python\\python310\\lib\\site-packages (from beautifulsoup4) (2.3.2)\n",
            "Note: you may need to restart the kernel to use updated packages.\n"
          ]
        }
      ],
      "source": [
        "pip install beautifulsoup4\n"
      ]
    },
    {
      "cell_type": "code",
      "execution_count": 2,
      "metadata": {
        "colab": {
          "base_uri": "https://localhost:8080/"
        },
        "id": "h4z0AuzONl8B",
        "outputId": "a922c02e-2a08-4bba-84b9-317cd886dc1c"
      },
      "outputs": [
        {
          "name": "stdout",
          "output_type": "stream",
          "text": [
            "Requirement already satisfied: google in c:\\users\\mayur\\appdata\\local\\programs\\python\\python310\\lib\\site-packages (3.0.0)\n",
            "Requirement already satisfied: beautifulsoup4 in c:\\users\\mayur\\appdata\\local\\programs\\python\\python310\\lib\\site-packages (from google) (4.11.1)\n",
            "Requirement already satisfied: soupsieve>1.2 in c:\\users\\mayur\\appdata\\local\\programs\\python\\python310\\lib\\site-packages (from beautifulsoup4->google) (2.3.2)\n",
            "Note: you may need to restart the kernel to use updated packages.\n"
          ]
        }
      ],
      "source": [
        "pip install google\n"
      ]
    },
    {
      "cell_type": "code",
      "execution_count": 6,
      "metadata": {
        "colab": {
          "base_uri": "https://localhost:8080/"
        },
        "id": "9iI_R0fiM_n-",
        "outputId": "596ec3ae-c036-474d-f694-ea60ce4c85e3"
      },
      "outputs": [],
      "source": [
        "try:\n",
        "\tfrom googlesearch import search\n",
        "except ImportError:\n",
        "\tprint(\"No module named 'google' found\")\n",
        "\n",
        "# to search\n",
        "playerNames = ['RT Ponting', 'BB McCullum', 'DJ Hussey', 'Mohammad Hafeez',\n",
        "       'SC Ganguly', 'CL White', 'MV Boucher', 'B Akhil', 'AA Noffke',\n",
        "       'P Kumar', 'Z Khan', 'SB Joshi', 'W Jaffer', 'JH Kallis',\n",
        "       'R Dravid', 'V Kohli', 'K Goel', 'MEK Hussey', 'JR Hopes',\n",
        "       'SK Raina', 'JDP Oram', 'S Badrinath', 'PA Patel', 'ML Hayden',\n",
        "       'MS Dhoni', 'KC Sangakkara', 'Yuvraj Singh', 'SM Katich',\n",
        "       'IK Pathan', 'T Kohli', 'YK Pathan', 'S Dhawan', 'G Gambhir',\n",
        "       'SK Warne', 'D Salunkhe', 'SK Trivedi', 'V Sehwag', 'SR Watson',\n",
        "       'M Kaif', 'DS Lehmann', 'RA Jadeja', 'M Rawat', 'L Ronchi',\n",
        "       'ST Jayasuriya', 'DJ Thornely', 'RV Uthappa', 'PR Shah',\n",
        "       'AM Nayar', 'SM Pollock', 'Harbhajan Singh', 'S Chanderpaul',\n",
        "       'LRPL Taylor', 'WP Saha', 'AS Yadav', 'A Symonds', 'SB Bangar',\n",
        "       'WPUJC Vaas', 'RP Singh', 'AC Gilchrist', 'Y Venugopal Rao',\n",
        "       'VVS Laxman', 'RG Sharma', 'SB Styris', 'LR Shukla', 'PP Chawla',\n",
        "       'Kamran Akmal', 'DPMD Jayawardene', 'S Sohal', 'B Lee', 'WA Mota',\n",
        "       'Shahid Afridi', 'DJ Bravo', 'A Nehra', 'MA Khote', 'GC Smith',\n",
        "       'Pankaj Singh', 'S Sreesanth', 'VRV Singh', 'SS Tiwary',\n",
        "       'RR Sarwan', 'DS Kulkarni', 'R Vinay Kumar', 'M Kartik',\n",
        "       'I Sharma', 'AB Agarkar', 'AM Rahane', 'TM Srivastava',\n",
        "       'Shoaib Malik', 'MK Tiwary', 'KD Karthik', 'R Bhatia',\n",
        "       'MF Maharoof', 'VY Mahesh', 'B Chipli', 'DW Steyn', 'DB Das',\n",
        "       'MK Pandey', 'HH Gibbs', 'DNT Zoysa', 'D Kalyankrishna',\n",
        "       'SE Marsh', 'SA Asnodkar', 'BJ Hodge', 'Sohail Tanvir',\n",
        "       'Salman Butt', 'Umar Gul', 'AB Dinda', 'AB de Villiers',\n",
        "       'SP Fleming', 'S Vidyut', 'JA Morkel', 'LPC Silva', 'DB Ravi Teja',\n",
        "       'Misbah-ul-Haq', 'PJ Sangwan', 'YV Takawale', 'RR Raje',\n",
        "       'Mohammad Asif', 'GD McGrath', 'Joginder Sharma', 'MS Gony',\n",
        "       'M Muralitharan', 'M Ntini', 'DT Patil', 'A Kumble', 'S Anirudha',\n",
        "       'MM Patel', 'CK Kapugedera', 'A Chopra', 'T Taibu', 'J Arunkumar',\n",
        "       'PP Ojha', 'SP Goswami', 'SR Tendulkar', 'U Kaul', 'Niraj Patel',\n",
        "       'AD Mascarenhas', 'TM Dilshan', 'A Mishra', 'LA Pomersbach',\n",
        "       'Iqbal Abdulla', 'Younis Khan', 'PM Sarvesh Kumar',\n",
        "       'DP Vijaykumar', 'Shoaib Akhtar', 'Abdur Razzak', 'H Das',\n",
        "       'DR Smith', 'SD Chitnis', 'CRD Fernando', 'VS Yeligati',\n",
        "       'L Balaji', 'A Mukund', 'RR Powar', 'JP Duminy', 'A Flintoff',\n",
        "       'T Thushara', 'KP Pietersen', 'JD Ryder', 'T Henderson',\n",
        "       'Kamran Khan', 'RS Bopara', 'MC Henriques', 'CH Gayle',\n",
        "       'R Bishnoi', 'KV Sharma', 'FH Edwards', 'AS Raut', 'PC Valthaty',\n",
        "       'RJ Quiney', 'Yashpal Singh', 'M Manhas', 'AA Bilakhia',\n",
        "       'AN Ghosh', 'BAW Mendis', 'DL Vettori', 'MN van Wyk',\n",
        "       'RE van der Merwe', 'TL Suman', 'Shoaib Ahmed', 'GR Napier',\n",
        "       'KP Appanna', 'LA Carseldine', 'NV Ojha', 'SM Harwood', 'M Vijay',\n",
        "       'DA Warner', 'SB Jakati', 'RJ Harris', 'D du Preez', 'M Morkel',\n",
        "       'AD Mathews', 'SL Malinga', 'C Nanda', 'J Botha',\n",
        "       'Mashrafe Mortaza', 'A Singh', 'GJ Bailey', 'AB McDonald',\n",
        "       'Y Nagar', 'SS Shaikh', 'R Ashwin', 'Mohammad Ashraful',\n",
        "       'Jaskaran Singh', 'Anirudh Singh', 'CA Pujara', 'OA Shah',\n",
        "       'AP Tare', 'AT Rayudu', 'R Sathish', 'R McLaren',\n",
        "       'AA Jhunjhunwala', 'P Dogra', 'A Uniyal', 'MS Bisla', 'YA Abdulla',\n",
        "       'EJG Morgan', 'JM Kemp', 'S Tyagi', 'RS Gavaskar', 'SE Bond',\n",
        "       'S Ladda', 'DP Nannes', 'KA Pollard', 'DR Martyn', 'S Narwal',\n",
        "       'MJ Lumb', 'Bipul Sharma', 'AB Barath', 'FY Fazal', 'AC Voges',\n",
        "       'MD Mishra', 'UT Yadav', 'J Theron', 'SJ Srivastava', 'R Sharma',\n",
        "       'Mandeep Singh', 'KM Jadhav', 'SW Tait', 'KB Arun Karthik',\n",
        "       'KAJ Roach', 'PD Collingwood', 'CK Langeveldt', 'VS Malik',\n",
        "       'A Mithun', 'AP Dole', 'AN Ahmed', 'RS Sodhi', 'DE Bollinger',\n",
        "       'S Sriram', 'B Sumanth', 'C Madan', 'AG Paunikar', 'MR Marsh',\n",
        "       'AJ Finch', 'STR Binny', 'Harmeet Singh', 'IR Jaggi',\n",
        "       'DT Christian', 'MA Agarwal', 'RV Gomez', 'AUK Pathan',\n",
        "       'UBT Chand', 'DJ Jacobs', 'NJ Rimmington', 'Sunny Singh',\n",
        "       'AL Menaria', 'WD Parnell', 'JJ van der Wath', 'R Ninan',\n",
        "       'S Aravind', 'MS Wade', 'TD Paine', 'JEC Franklin', 'SB Wagh',\n",
        "       'AC Thomas', 'Shakib Al Hasan', 'DH Yagnik', 'S Randiv',\n",
        "       'BJ Haddin', 'NLTC Perera', 'NL McCullum', 'JE Taylor',\n",
        "       'J Syed Mohammad', 'RN ten Doeschate', 'TR Birt', 'AG Murtaza',\n",
        "       'Harpreet Singh', 'M Klinger', 'AC Blizzard', 'I Malhotra',\n",
        "       'L Ablish', 'CA Ingram', 'S Nadeem', 'P Parameswaran',\n",
        "       'CJ Ferguson', 'VR Aaron', 'AA Chavan', 'ND Doshi', 'B Kumar',\n",
        "       'Y Gnaneswara Rao', 'S Rana', 'BA Bhatt', 'F du Plessis',\n",
        "       'RE Levi', 'GJ Maxwell', 'SPD Smith', 'SA Yadav', 'MN Samuels',\n",
        "       'KK Cooper', 'JP Faulkner', 'HV Patel', 'DAJ Bracewell',\n",
        "       'DJ Harris', 'Ankit Sharma', 'SP Narine', 'GB Hogg', 'RR Bhatkal',\n",
        "       'CJ McKay', 'N Saini', 'DA Miller', 'Azhar Mahmood', 'P Negi',\n",
        "       'RJ Peterson', 'KMDN Kulasekara', 'A Ashish Reddy',\n",
        "       'V Pratap Singh', 'BB Samantray', 'MJ Clarke', 'Gurkeerat Singh',\n",
        "       'AP Majumdar', 'PA Reddy', 'K Upadhyay', 'P Awana', 'AD Russell',\n",
        "       'A Chandila', 'CA Lynn', 'Sunny Gupta', 'MC Juneja', 'KK Nair',\n",
        "       'GH Vihari', 'R Shukla', 'MDKJ Perera', 'AS Rajpoot', 'B Laughlin',\n",
        "       'M Vohra', 'JD Unadkat', 'Mohammed Shami', 'BMAJ Mendis',\n",
        "       'R Rampaul', 'CH Morris', 'SV Samson', 'SMSM Senanayake',\n",
        "       'BJ Rohrer', 'KL Rahul', 'Q de Kock', 'R Dhawan', 'MG Johnson',\n",
        "       'LJ Wright', 'IC Pandey', 'CM Gautam', 'X Thalaivan Sargunam',\n",
        "       'DJG Sammy', 'KW Richardson', 'MM Sharma', 'UA Birla',\n",
        "       'Parvez Rasool', 'Sandeep Sharma', 'S Kaul', 'Sachin Baby',\n",
        "       'PV Tambe', 'NM Coulter-Nile', 'CJ Anderson', 'NJ Maddinson',\n",
        "       'AR Patel', 'JJ Bumrah', 'JDS Neesham', 'TG Southee', 'MA Starc',\n",
        "       'BR Dunk', 'RR Rossouw', 'Shivam Sharma', 'YS Chahal',\n",
        "       'LMP Simmons', 'VH Zol', 'Imran Tahir', 'BCJ Cutting',\n",
        "       'BE Hendricks', 'S Gopal', 'M de Lange', 'R Tewatia', 'JO Holder',\n",
        "       'Karanveer Singh', 'SS Iyer', 'DJ Hooda', 'Anureet Singh',\n",
        "       'KS Williamson', 'SA Abbott', 'J Suchith', 'RG More', 'D Wiese',\n",
        "       'HH Pandya', 'SN Khan', 'MJ McClenaghan', 'DJ Muthuswami',\n",
        "       'PJ Cummins', 'SN Thakur', 'JC Buttler', 'CR Brathwaite',\n",
        "       'MP Stoinis', 'Ishan Kishan', 'C Munro', 'P Sahu', 'KH Pandya',\n",
        "       'AD Nath', 'MJ Guptill', 'KJ Abbott', 'TM Head', 'M Ashwin',\n",
        "       'NS Naik', 'RR Pant', 'SW Billings', 'KC Cariappa',\n",
        "       'PSP Handscomb', 'Swapnil Singh', 'J Yadav', 'UT Khawaja',\n",
        "       'HM Amla', 'F Behardien', 'A Zampa', 'BB Sran', 'N Rana',\n",
        "       'S Kaushik', 'ER Dwivedi', 'CJ Jordan', 'A Choudhary', 'TS Mills',\n",
        "       'BA Stokes', 'JJ Roy', 'Vishnu Vinod', 'Basil Thampi', 'CR Woakes',\n",
        "       'RA Tripathi', 'DL Chahar', 'V Shankar', 'Rashid Khan',\n",
        "       'LH Ferguson', 'RD Chahar', 'C de Grandhomme', 'AF Milne',\n",
        "       'S Badree', 'Mohammad Nabi', 'AJ Tye', 'K Rabada', 'Kuldeep Yadav',\n",
        "       'Washington Sundar', 'DM Bravo', 'AR Bawne', 'SP Jackson',\n",
        "       'Ankit Soni', 'TA Boult', 'E Lewis', 'MA Wood', 'RK Singh',\n",
        "       'DJM Short', 'K Gowtham', 'TK Curran', 'M Markande', 'B Stanlake',\n",
        "       'Mujeeb Ur Rahman', 'A Dananjaya', 'Shivam Mavi', 'Shubman Gill',\n",
        "       'Mohammed Siraj', 'H Klaasen', 'RK Bhui', 'JC Archer', 'PP Shaw',\n",
        "       'LE Plunkett', 'Mustafizur Rahman', 'AD Hales', 'MK Lomror',\n",
        "       'DR Shorey', 'MM Ali', 'M Prasidh Krishna', 'P Chopra',\n",
        "       'JPR Scantlebury-Searles', 'Abhishek Sharma', 'IS Sodhi',\n",
        "       'SO Hetmyer', 'S Dube', 'NA Saini', 'JM Bairstow', 'Rasikh Salam',\n",
        "       'KMA Paul', 'N Pooran', 'P Ray Barman', 'S Lamichhane',\n",
        "       'SM Curran', 'GC Viljoen', 'Avesh Khan', 'HF Gurney', 'SD Lad',\n",
        "       'AS Joseph', 'MJ Santner', 'R Parag', 'JL Denly', 'LS Livingstone',\n",
        "       'KK Ahmed', 'AJ Turner', 'SE Rutherford', 'Harpreet Brar',\n",
        "       'Y Prithvi Raj', 'P Simran Singh', 'JL Pattinson', 'A Nortje',\n",
        "       'T Banton', 'D Padikkal', 'YBK Jaiswal', 'RD Gaikwad',\n",
        "       'TU Deshpande', 'Abdul Samad', 'PK Garg', 'JR Philippe',\n",
        "       'Kartik Tyagi', 'CV Varun', 'KL Nagarkoti', 'I Udana',\n",
        "       'Ravi Bishnoi', 'Shahbaz Ahmed', 'AT Carey', 'N Jagadeesan',\n",
        "       'T Natarajan', 'P Dubey', 'SS Cottrell', 'Arshdeep Singh',\n",
        "       'DR Sams']\n",
        "\n",
        "# for q in query:\n",
        "#   if(\" \" in q):\n",
        "#     surname = q.split(' ')\n",
        "#     print(surname[1])\n",
        "#   else:\n",
        "#     surname = q\n",
        "#     print(surname)\n"
      ]
    },
    {
      "cell_type": "code",
      "execution_count": 7,
      "metadata": {
        "id": "_1a0g-E8Tmi4"
      },
      "outputs": [],
      "source": [
        "nameMap = {}\n",
        "linkMap = {}"
      ]
    },
    {
      "cell_type": "code",
      "execution_count": 9,
      "metadata": {
        "id": "uaQJXVCBNAKV"
      },
      "outputs": [
        {
          "ename": "HTTPError",
          "evalue": "HTTP Error 429: Too Many Requests",
          "output_type": "error",
          "traceback": [
            "\u001b[1;31m---------------------------------------------------------------------------\u001b[0m",
            "\u001b[1;31mHTTPError\u001b[0m                                 Traceback (most recent call last)",
            "\u001b[1;32md:\\IPL\\Ipl_Player_Names_Scrapping_google.ipynb Cell 7'\u001b[0m in \u001b[0;36m<module>\u001b[1;34m\u001b[0m\n\u001b[0;32m      <a href='vscode-notebook-cell:/d%3A/IPL/Ipl_Player_Names_Scrapping_google.ipynb#ch0000006?line=0'>1</a>\u001b[0m \u001b[39mfor\u001b[39;00m ind,i \u001b[39min\u001b[39;00m \u001b[39menumerate\u001b[39m(playerNames):\n\u001b[1;32m----> <a href='vscode-notebook-cell:/d%3A/IPL/Ipl_Player_Names_Scrapping_google.ipynb#ch0000006?line=1'>2</a>\u001b[0m   \u001b[39mfor\u001b[39;00m j \u001b[39min\u001b[39;00m search(i, tld\u001b[39m=\u001b[39m\u001b[39m\"\u001b[39m\u001b[39mco.in\u001b[39m\u001b[39m\"\u001b[39m, num\u001b[39m=\u001b[39m\u001b[39m20\u001b[39m, stop\u001b[39m=\u001b[39m\u001b[39m20\u001b[39m, pause\u001b[39m=\u001b[39m\u001b[39m2\u001b[39m):\n\u001b[0;32m      <a href='vscode-notebook-cell:/d%3A/IPL/Ipl_Player_Names_Scrapping_google.ipynb#ch0000006?line=2'>3</a>\u001b[0m     \u001b[39mif\u001b[39;00m(\u001b[39m\"\u001b[39m\u001b[39m \u001b[39m\u001b[39m\"\u001b[39m \u001b[39min\u001b[39;00m i):\n\u001b[0;32m      <a href='vscode-notebook-cell:/d%3A/IPL/Ipl_Player_Names_Scrapping_google.ipynb#ch0000006?line=3'>4</a>\u001b[0m       surname \u001b[39m=\u001b[39m i\u001b[39m.\u001b[39msplit(\u001b[39m'\u001b[39m\u001b[39m \u001b[39m\u001b[39m'\u001b[39m)\n",
            "File \u001b[1;32m~\\AppData\\Local\\Programs\\Python\\Python310\\lib\\site-packages\\googlesearch\\__init__.py:305\u001b[0m, in \u001b[0;36msearch\u001b[1;34m(query, tld, lang, tbs, safe, num, start, stop, pause, country, extra_params, user_agent, verify_ssl)\u001b[0m\n\u001b[0;32m    <a href='file:///c%3A/Users/mayur/AppData/Local/Programs/Python/Python310/lib/site-packages/googlesearch/__init__.py?line=301'>302</a>\u001b[0m time\u001b[39m.\u001b[39msleep(pause)\n\u001b[0;32m    <a href='file:///c%3A/Users/mayur/AppData/Local/Programs/Python/Python310/lib/site-packages/googlesearch/__init__.py?line=303'>304</a>\u001b[0m \u001b[39m# Request the Google Search results page.\u001b[39;00m\n\u001b[1;32m--> <a href='file:///c%3A/Users/mayur/AppData/Local/Programs/Python/Python310/lib/site-packages/googlesearch/__init__.py?line=304'>305</a>\u001b[0m html \u001b[39m=\u001b[39m get_page(url, user_agent, verify_ssl)\n\u001b[0;32m    <a href='file:///c%3A/Users/mayur/AppData/Local/Programs/Python/Python310/lib/site-packages/googlesearch/__init__.py?line=306'>307</a>\u001b[0m \u001b[39m# Parse the response and get every anchored URL.\u001b[39;00m\n\u001b[0;32m    <a href='file:///c%3A/Users/mayur/AppData/Local/Programs/Python/Python310/lib/site-packages/googlesearch/__init__.py?line=307'>308</a>\u001b[0m \u001b[39mif\u001b[39;00m is_bs4:\n",
            "File \u001b[1;32m~\\AppData\\Local\\Programs\\Python\\Python310\\lib\\site-packages\\googlesearch\\__init__.py:174\u001b[0m, in \u001b[0;36mget_page\u001b[1;34m(url, user_agent, verify_ssl)\u001b[0m\n\u001b[0;32m    <a href='file:///c%3A/Users/mayur/AppData/Local/Programs/Python/Python310/lib/site-packages/googlesearch/__init__.py?line=171'>172</a>\u001b[0m cookie_jar\u001b[39m.\u001b[39madd_cookie_header(request)\n\u001b[0;32m    <a href='file:///c%3A/Users/mayur/AppData/Local/Programs/Python/Python310/lib/site-packages/googlesearch/__init__.py?line=172'>173</a>\u001b[0m \u001b[39mif\u001b[39;00m verify_ssl:\n\u001b[1;32m--> <a href='file:///c%3A/Users/mayur/AppData/Local/Programs/Python/Python310/lib/site-packages/googlesearch/__init__.py?line=173'>174</a>\u001b[0m     response \u001b[39m=\u001b[39m urlopen(request)\n\u001b[0;32m    <a href='file:///c%3A/Users/mayur/AppData/Local/Programs/Python/Python310/lib/site-packages/googlesearch/__init__.py?line=174'>175</a>\u001b[0m \u001b[39melse\u001b[39;00m:\n\u001b[0;32m    <a href='file:///c%3A/Users/mayur/AppData/Local/Programs/Python/Python310/lib/site-packages/googlesearch/__init__.py?line=175'>176</a>\u001b[0m     context \u001b[39m=\u001b[39m ssl\u001b[39m.\u001b[39m_create_unverified_context()\n",
            "File \u001b[1;32m~\\AppData\\Local\\Programs\\Python\\Python310\\lib\\urllib\\request.py:216\u001b[0m, in \u001b[0;36murlopen\u001b[1;34m(url, data, timeout, cafile, capath, cadefault, context)\u001b[0m\n\u001b[0;32m    <a href='file:///c%3A/Users/mayur/AppData/Local/Programs/Python/Python310/lib/urllib/request.py?line=213'>214</a>\u001b[0m \u001b[39melse\u001b[39;00m:\n\u001b[0;32m    <a href='file:///c%3A/Users/mayur/AppData/Local/Programs/Python/Python310/lib/urllib/request.py?line=214'>215</a>\u001b[0m     opener \u001b[39m=\u001b[39m _opener\n\u001b[1;32m--> <a href='file:///c%3A/Users/mayur/AppData/Local/Programs/Python/Python310/lib/urllib/request.py?line=215'>216</a>\u001b[0m \u001b[39mreturn\u001b[39;00m opener\u001b[39m.\u001b[39;49mopen(url, data, timeout)\n",
            "File \u001b[1;32m~\\AppData\\Local\\Programs\\Python\\Python310\\lib\\urllib\\request.py:525\u001b[0m, in \u001b[0;36mOpenerDirector.open\u001b[1;34m(self, fullurl, data, timeout)\u001b[0m\n\u001b[0;32m    <a href='file:///c%3A/Users/mayur/AppData/Local/Programs/Python/Python310/lib/urllib/request.py?line=522'>523</a>\u001b[0m \u001b[39mfor\u001b[39;00m processor \u001b[39min\u001b[39;00m \u001b[39mself\u001b[39m\u001b[39m.\u001b[39mprocess_response\u001b[39m.\u001b[39mget(protocol, []):\n\u001b[0;32m    <a href='file:///c%3A/Users/mayur/AppData/Local/Programs/Python/Python310/lib/urllib/request.py?line=523'>524</a>\u001b[0m     meth \u001b[39m=\u001b[39m \u001b[39mgetattr\u001b[39m(processor, meth_name)\n\u001b[1;32m--> <a href='file:///c%3A/Users/mayur/AppData/Local/Programs/Python/Python310/lib/urllib/request.py?line=524'>525</a>\u001b[0m     response \u001b[39m=\u001b[39m meth(req, response)\n\u001b[0;32m    <a href='file:///c%3A/Users/mayur/AppData/Local/Programs/Python/Python310/lib/urllib/request.py?line=526'>527</a>\u001b[0m \u001b[39mreturn\u001b[39;00m response\n",
            "File \u001b[1;32m~\\AppData\\Local\\Programs\\Python\\Python310\\lib\\urllib\\request.py:634\u001b[0m, in \u001b[0;36mHTTPErrorProcessor.http_response\u001b[1;34m(self, request, response)\u001b[0m\n\u001b[0;32m    <a href='file:///c%3A/Users/mayur/AppData/Local/Programs/Python/Python310/lib/urllib/request.py?line=630'>631</a>\u001b[0m \u001b[39m# According to RFC 2616, \"2xx\" code indicates that the client's\u001b[39;00m\n\u001b[0;32m    <a href='file:///c%3A/Users/mayur/AppData/Local/Programs/Python/Python310/lib/urllib/request.py?line=631'>632</a>\u001b[0m \u001b[39m# request was successfully received, understood, and accepted.\u001b[39;00m\n\u001b[0;32m    <a href='file:///c%3A/Users/mayur/AppData/Local/Programs/Python/Python310/lib/urllib/request.py?line=632'>633</a>\u001b[0m \u001b[39mif\u001b[39;00m \u001b[39mnot\u001b[39;00m (\u001b[39m200\u001b[39m \u001b[39m<\u001b[39m\u001b[39m=\u001b[39m code \u001b[39m<\u001b[39m \u001b[39m300\u001b[39m):\n\u001b[1;32m--> <a href='file:///c%3A/Users/mayur/AppData/Local/Programs/Python/Python310/lib/urllib/request.py?line=633'>634</a>\u001b[0m     response \u001b[39m=\u001b[39m \u001b[39mself\u001b[39;49m\u001b[39m.\u001b[39;49mparent\u001b[39m.\u001b[39;49merror(\n\u001b[0;32m    <a href='file:///c%3A/Users/mayur/AppData/Local/Programs/Python/Python310/lib/urllib/request.py?line=634'>635</a>\u001b[0m         \u001b[39m'\u001b[39;49m\u001b[39mhttp\u001b[39;49m\u001b[39m'\u001b[39;49m, request, response, code, msg, hdrs)\n\u001b[0;32m    <a href='file:///c%3A/Users/mayur/AppData/Local/Programs/Python/Python310/lib/urllib/request.py?line=636'>637</a>\u001b[0m \u001b[39mreturn\u001b[39;00m response\n",
            "File \u001b[1;32m~\\AppData\\Local\\Programs\\Python\\Python310\\lib\\urllib\\request.py:557\u001b[0m, in \u001b[0;36mOpenerDirector.error\u001b[1;34m(self, proto, *args)\u001b[0m\n\u001b[0;32m    <a href='file:///c%3A/Users/mayur/AppData/Local/Programs/Python/Python310/lib/urllib/request.py?line=554'>555</a>\u001b[0m     http_err \u001b[39m=\u001b[39m \u001b[39m0\u001b[39m\n\u001b[0;32m    <a href='file:///c%3A/Users/mayur/AppData/Local/Programs/Python/Python310/lib/urllib/request.py?line=555'>556</a>\u001b[0m args \u001b[39m=\u001b[39m (\u001b[39mdict\u001b[39m, proto, meth_name) \u001b[39m+\u001b[39m args\n\u001b[1;32m--> <a href='file:///c%3A/Users/mayur/AppData/Local/Programs/Python/Python310/lib/urllib/request.py?line=556'>557</a>\u001b[0m result \u001b[39m=\u001b[39m \u001b[39mself\u001b[39;49m\u001b[39m.\u001b[39;49m_call_chain(\u001b[39m*\u001b[39;49margs)\n\u001b[0;32m    <a href='file:///c%3A/Users/mayur/AppData/Local/Programs/Python/Python310/lib/urllib/request.py?line=557'>558</a>\u001b[0m \u001b[39mif\u001b[39;00m result:\n\u001b[0;32m    <a href='file:///c%3A/Users/mayur/AppData/Local/Programs/Python/Python310/lib/urllib/request.py?line=558'>559</a>\u001b[0m     \u001b[39mreturn\u001b[39;00m result\n",
            "File \u001b[1;32m~\\AppData\\Local\\Programs\\Python\\Python310\\lib\\urllib\\request.py:496\u001b[0m, in \u001b[0;36mOpenerDirector._call_chain\u001b[1;34m(self, chain, kind, meth_name, *args)\u001b[0m\n\u001b[0;32m    <a href='file:///c%3A/Users/mayur/AppData/Local/Programs/Python/Python310/lib/urllib/request.py?line=493'>494</a>\u001b[0m \u001b[39mfor\u001b[39;00m handler \u001b[39min\u001b[39;00m handlers:\n\u001b[0;32m    <a href='file:///c%3A/Users/mayur/AppData/Local/Programs/Python/Python310/lib/urllib/request.py?line=494'>495</a>\u001b[0m     func \u001b[39m=\u001b[39m \u001b[39mgetattr\u001b[39m(handler, meth_name)\n\u001b[1;32m--> <a href='file:///c%3A/Users/mayur/AppData/Local/Programs/Python/Python310/lib/urllib/request.py?line=495'>496</a>\u001b[0m     result \u001b[39m=\u001b[39m func(\u001b[39m*\u001b[39;49margs)\n\u001b[0;32m    <a href='file:///c%3A/Users/mayur/AppData/Local/Programs/Python/Python310/lib/urllib/request.py?line=496'>497</a>\u001b[0m     \u001b[39mif\u001b[39;00m result \u001b[39mis\u001b[39;00m \u001b[39mnot\u001b[39;00m \u001b[39mNone\u001b[39;00m:\n\u001b[0;32m    <a href='file:///c%3A/Users/mayur/AppData/Local/Programs/Python/Python310/lib/urllib/request.py?line=497'>498</a>\u001b[0m         \u001b[39mreturn\u001b[39;00m result\n",
            "File \u001b[1;32m~\\AppData\\Local\\Programs\\Python\\Python310\\lib\\urllib\\request.py:749\u001b[0m, in \u001b[0;36mHTTPRedirectHandler.http_error_302\u001b[1;34m(self, req, fp, code, msg, headers)\u001b[0m\n\u001b[0;32m    <a href='file:///c%3A/Users/mayur/AppData/Local/Programs/Python/Python310/lib/urllib/request.py?line=745'>746</a>\u001b[0m fp\u001b[39m.\u001b[39mread()\n\u001b[0;32m    <a href='file:///c%3A/Users/mayur/AppData/Local/Programs/Python/Python310/lib/urllib/request.py?line=746'>747</a>\u001b[0m fp\u001b[39m.\u001b[39mclose()\n\u001b[1;32m--> <a href='file:///c%3A/Users/mayur/AppData/Local/Programs/Python/Python310/lib/urllib/request.py?line=748'>749</a>\u001b[0m \u001b[39mreturn\u001b[39;00m \u001b[39mself\u001b[39;49m\u001b[39m.\u001b[39;49mparent\u001b[39m.\u001b[39;49mopen(new, timeout\u001b[39m=\u001b[39;49mreq\u001b[39m.\u001b[39;49mtimeout)\n",
            "File \u001b[1;32m~\\AppData\\Local\\Programs\\Python\\Python310\\lib\\urllib\\request.py:525\u001b[0m, in \u001b[0;36mOpenerDirector.open\u001b[1;34m(self, fullurl, data, timeout)\u001b[0m\n\u001b[0;32m    <a href='file:///c%3A/Users/mayur/AppData/Local/Programs/Python/Python310/lib/urllib/request.py?line=522'>523</a>\u001b[0m \u001b[39mfor\u001b[39;00m processor \u001b[39min\u001b[39;00m \u001b[39mself\u001b[39m\u001b[39m.\u001b[39mprocess_response\u001b[39m.\u001b[39mget(protocol, []):\n\u001b[0;32m    <a href='file:///c%3A/Users/mayur/AppData/Local/Programs/Python/Python310/lib/urllib/request.py?line=523'>524</a>\u001b[0m     meth \u001b[39m=\u001b[39m \u001b[39mgetattr\u001b[39m(processor, meth_name)\n\u001b[1;32m--> <a href='file:///c%3A/Users/mayur/AppData/Local/Programs/Python/Python310/lib/urllib/request.py?line=524'>525</a>\u001b[0m     response \u001b[39m=\u001b[39m meth(req, response)\n\u001b[0;32m    <a href='file:///c%3A/Users/mayur/AppData/Local/Programs/Python/Python310/lib/urllib/request.py?line=526'>527</a>\u001b[0m \u001b[39mreturn\u001b[39;00m response\n",
            "File \u001b[1;32m~\\AppData\\Local\\Programs\\Python\\Python310\\lib\\urllib\\request.py:634\u001b[0m, in \u001b[0;36mHTTPErrorProcessor.http_response\u001b[1;34m(self, request, response)\u001b[0m\n\u001b[0;32m    <a href='file:///c%3A/Users/mayur/AppData/Local/Programs/Python/Python310/lib/urllib/request.py?line=630'>631</a>\u001b[0m \u001b[39m# According to RFC 2616, \"2xx\" code indicates that the client's\u001b[39;00m\n\u001b[0;32m    <a href='file:///c%3A/Users/mayur/AppData/Local/Programs/Python/Python310/lib/urllib/request.py?line=631'>632</a>\u001b[0m \u001b[39m# request was successfully received, understood, and accepted.\u001b[39;00m\n\u001b[0;32m    <a href='file:///c%3A/Users/mayur/AppData/Local/Programs/Python/Python310/lib/urllib/request.py?line=632'>633</a>\u001b[0m \u001b[39mif\u001b[39;00m \u001b[39mnot\u001b[39;00m (\u001b[39m200\u001b[39m \u001b[39m<\u001b[39m\u001b[39m=\u001b[39m code \u001b[39m<\u001b[39m \u001b[39m300\u001b[39m):\n\u001b[1;32m--> <a href='file:///c%3A/Users/mayur/AppData/Local/Programs/Python/Python310/lib/urllib/request.py?line=633'>634</a>\u001b[0m     response \u001b[39m=\u001b[39m \u001b[39mself\u001b[39;49m\u001b[39m.\u001b[39;49mparent\u001b[39m.\u001b[39;49merror(\n\u001b[0;32m    <a href='file:///c%3A/Users/mayur/AppData/Local/Programs/Python/Python310/lib/urllib/request.py?line=634'>635</a>\u001b[0m         \u001b[39m'\u001b[39;49m\u001b[39mhttp\u001b[39;49m\u001b[39m'\u001b[39;49m, request, response, code, msg, hdrs)\n\u001b[0;32m    <a href='file:///c%3A/Users/mayur/AppData/Local/Programs/Python/Python310/lib/urllib/request.py?line=636'>637</a>\u001b[0m \u001b[39mreturn\u001b[39;00m response\n",
            "File \u001b[1;32m~\\AppData\\Local\\Programs\\Python\\Python310\\lib\\urllib\\request.py:563\u001b[0m, in \u001b[0;36mOpenerDirector.error\u001b[1;34m(self, proto, *args)\u001b[0m\n\u001b[0;32m    <a href='file:///c%3A/Users/mayur/AppData/Local/Programs/Python/Python310/lib/urllib/request.py?line=560'>561</a>\u001b[0m \u001b[39mif\u001b[39;00m http_err:\n\u001b[0;32m    <a href='file:///c%3A/Users/mayur/AppData/Local/Programs/Python/Python310/lib/urllib/request.py?line=561'>562</a>\u001b[0m     args \u001b[39m=\u001b[39m (\u001b[39mdict\u001b[39m, \u001b[39m'\u001b[39m\u001b[39mdefault\u001b[39m\u001b[39m'\u001b[39m, \u001b[39m'\u001b[39m\u001b[39mhttp_error_default\u001b[39m\u001b[39m'\u001b[39m) \u001b[39m+\u001b[39m orig_args\n\u001b[1;32m--> <a href='file:///c%3A/Users/mayur/AppData/Local/Programs/Python/Python310/lib/urllib/request.py?line=562'>563</a>\u001b[0m     \u001b[39mreturn\u001b[39;00m \u001b[39mself\u001b[39;49m\u001b[39m.\u001b[39;49m_call_chain(\u001b[39m*\u001b[39;49margs)\n",
            "File \u001b[1;32m~\\AppData\\Local\\Programs\\Python\\Python310\\lib\\urllib\\request.py:496\u001b[0m, in \u001b[0;36mOpenerDirector._call_chain\u001b[1;34m(self, chain, kind, meth_name, *args)\u001b[0m\n\u001b[0;32m    <a href='file:///c%3A/Users/mayur/AppData/Local/Programs/Python/Python310/lib/urllib/request.py?line=493'>494</a>\u001b[0m \u001b[39mfor\u001b[39;00m handler \u001b[39min\u001b[39;00m handlers:\n\u001b[0;32m    <a href='file:///c%3A/Users/mayur/AppData/Local/Programs/Python/Python310/lib/urllib/request.py?line=494'>495</a>\u001b[0m     func \u001b[39m=\u001b[39m \u001b[39mgetattr\u001b[39m(handler, meth_name)\n\u001b[1;32m--> <a href='file:///c%3A/Users/mayur/AppData/Local/Programs/Python/Python310/lib/urllib/request.py?line=495'>496</a>\u001b[0m     result \u001b[39m=\u001b[39m func(\u001b[39m*\u001b[39;49margs)\n\u001b[0;32m    <a href='file:///c%3A/Users/mayur/AppData/Local/Programs/Python/Python310/lib/urllib/request.py?line=496'>497</a>\u001b[0m     \u001b[39mif\u001b[39;00m result \u001b[39mis\u001b[39;00m \u001b[39mnot\u001b[39;00m \u001b[39mNone\u001b[39;00m:\n\u001b[0;32m    <a href='file:///c%3A/Users/mayur/AppData/Local/Programs/Python/Python310/lib/urllib/request.py?line=497'>498</a>\u001b[0m         \u001b[39mreturn\u001b[39;00m result\n",
            "File \u001b[1;32m~\\AppData\\Local\\Programs\\Python\\Python310\\lib\\urllib\\request.py:643\u001b[0m, in \u001b[0;36mHTTPDefaultErrorHandler.http_error_default\u001b[1;34m(self, req, fp, code, msg, hdrs)\u001b[0m\n\u001b[0;32m    <a href='file:///c%3A/Users/mayur/AppData/Local/Programs/Python/Python310/lib/urllib/request.py?line=641'>642</a>\u001b[0m \u001b[39mdef\u001b[39;00m \u001b[39mhttp_error_default\u001b[39m(\u001b[39mself\u001b[39m, req, fp, code, msg, hdrs):\n\u001b[1;32m--> <a href='file:///c%3A/Users/mayur/AppData/Local/Programs/Python/Python310/lib/urllib/request.py?line=642'>643</a>\u001b[0m     \u001b[39mraise\u001b[39;00m HTTPError(req\u001b[39m.\u001b[39mfull_url, code, msg, hdrs, fp)\n",
            "\u001b[1;31mHTTPError\u001b[0m: HTTP Error 429: Too Many Requests"
          ]
        }
      ],
      "source": [
        "for ind,i in enumerate(playerNames):\n",
        "  for j in search(i, tld=\"co.in\", num=20, stop=20, pause=2):\n",
        "    if(\" \" in i):\n",
        "      surname = i.split(' ')\n",
        "      # print(surname[1])\n",
        "      surname = surname[1]\n",
        "    else:\n",
        "      surname = i\n",
        "      # print(surname)\n",
        "    if((  \"https://en.wikipedia.org/wiki/\" in j ) and (surname in j)):\n",
        "      print(j)\n",
        "      nameMap[i] = j.split(\"wiki/\")[1]\n",
        "      linkMap[i] = j\n",
        "      break\n",
        "      "
      ]
    },
    {
      "cell_type": "code",
      "execution_count": null,
      "metadata": {
        "colab": {
          "base_uri": "https://localhost:8080/"
        },
        "id": "7aq9yehZSiUR",
        "outputId": "5493357c-fd5e-4a59-da79-5ff7c230fcbb"
      },
      "outputs": [
        {
          "name": "stdout",
          "output_type": "stream",
          "text": [
            "{'RT Ponting': 'Ricky_Ponting', 'BB McCullum': 'Brendon_McCullum', 'Mohammad Hafeez': 'Mohammad_Hafeez', 'SC Ganguly': 'Sourav_Ganguly', 'MV Boucher': 'Mark_Boucher', 'B Akhil': 'Balachandra_Akhil'}\n",
            "{'RT Ponting': 'https://en.wikipedia.org/wiki/Ricky_Ponting', 'BB McCullum': 'https://en.wikipedia.org/wiki/Brendon_McCullum', 'Mohammad Hafeez': 'https://en.wikipedia.org/wiki/Mohammad_Hafeez', 'SC Ganguly': 'https://en.wikipedia.org/wiki/Sourav_Ganguly', 'MV Boucher': 'https://en.wikipedia.org/wiki/Mark_Boucher', 'B Akhil': 'https://en.wikipedia.org/wiki/Balachandra_Akhil'}\n"
          ]
        }
      ],
      "source": [
        "print(nameMap)\n",
        "print(linkMap)"
      ]
    },
    {
      "cell_type": "code",
      "execution_count": null,
      "metadata": {
        "id": "atWiv3yJUryI"
      },
      "outputs": [],
      "source": []
    }
  ],
  "metadata": {
    "colab": {
      "name": "Ipl_Player_Names_Scrapping_google.ipynb",
      "provenance": []
    },
    "kernelspec": {
      "display_name": "Python 3",
      "name": "python3"
    },
    "language_info": {
      "codemirror_mode": {
        "name": "ipython",
        "version": 3
      },
      "file_extension": ".py",
      "mimetype": "text/x-python",
      "name": "python",
      "nbconvert_exporter": "python",
      "pygments_lexer": "ipython3",
      "version": "3.10.2"
    }
  },
  "nbformat": 4,
  "nbformat_minor": 0
}
